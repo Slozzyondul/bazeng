{
 "cells": [
  {
   "cell_type": "code",
   "execution_count": 2,
   "metadata": {},
   "outputs": [],
   "source": [
    "import requests\n",
    "from bs4 import BeautifulSoup"
   ]
  },
  {
   "cell_type": "code",
   "execution_count": 25,
   "metadata": {},
   "outputs": [],
   "source": [
    "root = 'https://subslikescript.com'\n",
    "website = f'{root}/movies'\n",
    "result = requests.get(website)\n",
    "content = result.text\n",
    "soup = BeautifulSoup(content, 'lxml')"
   ]
  },
  {
   "cell_type": "code",
   "execution_count": 7,
   "metadata": {},
   "outputs": [],
   "source": [
    "#print(soup.prettify)"
   ]
  },
  {
   "cell_type": "code",
   "execution_count": 11,
   "metadata": {},
   "outputs": [],
   "source": [
    "links = []\n",
    "box = soup.find('article', class_='main-article')\n",
    "for link in box.find_all('a', href=True):\n",
    "    links.append(link['href'])\n",
    "\n",
    "#print(links)"
   ]
  },
  {
   "cell_type": "code",
   "execution_count": 27,
   "metadata": {},
   "outputs": [],
   "source": [
    "for link in links: \n",
    "     website = f'{root}/{link}'\n",
    "     result = requests.get(website)\n",
    "     content = result.text\n",
    "     soup = BeautifulSoup(content, 'lxml')\n",
    "\n",
    "     box = soup.find('article', class_='main-article')\n",
    "     \n",
    "     title = box.find('h1').get_text()\n",
    "     transcript = box.find('div', class_='full-script').get_text(strip=True, separator=' ')\n",
    "\n",
    "     with open(f'{title}.txt', 'w') as file:\n",
    "          file.write(transcript)"
   ]
  },
  {
   "cell_type": "code",
   "execution_count": null,
   "metadata": {},
   "outputs": [],
   "source": []
  }
 ],
 "metadata": {
  "kernelspec": {
   "display_name": "Python 3",
   "language": "python",
   "name": "python3"
  },
  "language_info": {
   "codemirror_mode": {
    "name": "ipython",
    "version": 3
   },
   "file_extension": ".py",
   "mimetype": "text/x-python",
   "name": "python",
   "nbconvert_exporter": "python",
   "pygments_lexer": "ipython3",
   "version": "3.11.5"
  },
  "orig_nbformat": 4
 },
 "nbformat": 4,
 "nbformat_minor": 2
}
