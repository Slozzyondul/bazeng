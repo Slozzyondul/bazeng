{
 "cells": [
  {
   "cell_type": "code",
   "execution_count": 4,
   "metadata": {},
   "outputs": [
    {
     "name": "stdout",
     "output_type": "stream",
     "text": [
      "Bob challenges Charlie to a match!\n",
      "Invalid result. Match not recorded.\n",
      "Alice challenges Charlie to a match!\n",
      "Invalid result. Match not recorded.\n",
      "Alice challenges Charlie to a match!\n",
      "Invalid result. Match not recorded.\n",
      "Bob challenges Alice to a match!\n",
      "Invalid result. Match not recorded.\n",
      "Bob challenges Charlie to a match!\n",
      "Invalid result. Match not recorded.\n",
      "Current Standings:\n",
      "1. Alice - Rating: 1000\n",
      "2. Bob - Rating: 1000\n",
      "3. Charlie - Rating: 1000\n"
     ]
    }
   ],
   "source": [
    "import sqlite3\n",
    "import random\n",
    "\n",
    "class ChessLadder:\n",
    "    def __init__(self, db_path=\"chess_ladder0.db\"):\n",
    "        self.db_path = db_path\n",
    "        self._create_table()\n",
    "        self.matches = []\n",
    "\n",
    "    def _create_table(self):\n",
    "        with sqlite3.connect(self.db_path) as conn:\n",
    "            cursor = conn.cursor()\n",
    "            cursor.execute(\n",
    "                '''\n",
    "                CREATE TABLE IF NOT EXISTS players (\n",
    "                    id INTEGER PRIMARY KEY,\n",
    "                    name TEXT UNIQUE,\n",
    "                    rating INTEGER\n",
    "                )\n",
    "                '''\n",
    "            )\n",
    "\n",
    "    def add_player(self, player):\n",
    "        with sqlite3.connect(self.db_path) as conn:\n",
    "            cursor = conn.cursor()\n",
    "            cursor.execute(\"INSERT OR IGNORE INTO players (name, rating) VALUES (?, 1000)\", (player,))\n",
    "\n",
    "    def get_rating(self, player):\n",
    "        with sqlite3.connect(self.db_path) as conn:\n",
    "            cursor = conn.cursor()\n",
    "            cursor.execute(\"SELECT rating FROM players WHERE name=?\", (player,))\n",
    "            result = cursor.fetchone()\n",
    "            return result[0] if result else None\n",
    "\n",
    "    def set_rating(self, player, rating):\n",
    "        with sqlite3.connect(self.db_path) as conn:\n",
    "            cursor = conn.cursor()\n",
    "            cursor.execute(\"UPDATE players SET rating=? WHERE name=?\", (rating, player))\n",
    "\n",
    "    def print_standings(self):\n",
    "        with sqlite3.connect(self.db_path) as conn:\n",
    "            cursor = conn.cursor()\n",
    "            cursor.execute(\"SELECT name, rating FROM players ORDER BY rating DESC\")\n",
    "            standings = cursor.fetchall()\n",
    "\n",
    "        print(\"Current Standings:\")\n",
    "        for idx, (player, rating) in enumerate(standings, start=1):\n",
    "            print(f\"{idx}. {player} - Rating: {rating}\")\n",
    "\n",
    "    def challenge(self, player1, player2):\n",
    "        rating1 = self.get_rating(player1)\n",
    "        rating2 = self.get_rating(player2)\n",
    "\n",
    "        if rating1 is None or rating2 is None:\n",
    "            print(\"Invalid players.\")\n",
    "            return\n",
    "\n",
    "        print(f\"{player1} challenges {player2} to a match!\")\n",
    "        result = input(f\"{player1}'s result (win/draw/loss): \").lower()\n",
    "\n",
    "        if result == \"win\":\n",
    "            self.set_rating(player1, rating1 + 10)\n",
    "            self.set_rating(player2, rating2 - 10)\n",
    "            print(f\"{player1} wins! Ratings updated.\")\n",
    "        elif result == \"draw\":\n",
    "            print(\"It's a draw. Ratings unchanged.\")\n",
    "        elif result == \"loss\":\n",
    "            self.set_rating(player1, rating1 - 10)\n",
    "            self.set_rating(player2, rating2 + 10)\n",
    "            print(f\"{player2} wins! Ratings updated.\")\n",
    "        else:\n",
    "            print(\"Invalid result. Match not recorded.\")\n",
    "\n",
    "    def simulate_matches(self, num_matches):\n",
    "        all_players = [player[0] for player in self._get_all_players()]\n",
    "        for _ in range(num_matches):\n",
    "            players = random.sample(all_players, 2)\n",
    "            self.challenge(players[0], players[1])\n",
    "\n",
    "    def _get_all_players(self):\n",
    "        with sqlite3.connect(self.db_path) as conn:\n",
    "            cursor = conn.cursor()\n",
    "            cursor.execute(\"SELECT name, rating FROM players\")\n",
    "            return cursor.fetchall()\n",
    "\n",
    "if __name__ == \"__main__\":\n",
    "    ladder = ChessLadder()\n",
    "\n",
    "    # Add players\n",
    "    ladder.add_player(\"Alice\")\n",
    "    ladder.add_player(\"Bob\")\n",
    "    ladder.add_player(\"Charlie\")\n",
    "\n",
    "    # Simulate matches\n",
    "    ladder.simulate_matches(5)\n",
    "\n",
    "    # Print standings\n",
    "    ladder.print_standings()\n"
   ]
  },
  {
   "cell_type": "code",
   "execution_count": 3,
   "metadata": {},
   "outputs": [
    {
     "name": "stdout",
     "output_type": "stream",
     "text": [
      "Defaulting to user installation because normal site-packages is not writeable\n",
      "\u001b[31mERROR: Could not find a version that satisfies the requirement sqlite3 (from versions: none)\u001b[0m\u001b[31m\n",
      "\u001b[0m\u001b[31mERROR: No matching distribution found for sqlite3\u001b[0m\u001b[31m\n",
      "\u001b[0m"
     ]
    }
   ],
   "source": [
    "!pip install sqlite3"
   ]
  },
  {
   "cell_type": "code",
   "execution_count": null,
   "metadata": {},
   "outputs": [],
   "source": []
  }
 ],
 "metadata": {
  "kernelspec": {
   "display_name": "Python 3",
   "language": "python",
   "name": "python3"
  },
  "language_info": {
   "codemirror_mode": {
    "name": "ipython",
    "version": 3
   },
   "file_extension": ".py",
   "mimetype": "text/x-python",
   "name": "python",
   "nbconvert_exporter": "python",
   "pygments_lexer": "ipython3",
   "version": "3.11.6"
  }
 },
 "nbformat": 4,
 "nbformat_minor": 2
}
