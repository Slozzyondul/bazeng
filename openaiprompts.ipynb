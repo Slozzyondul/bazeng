{
 "cells": [
  {
   "cell_type": "code",
   "execution_count": 31,
   "metadata": {},
   "outputs": [],
   "source": [
    "import os\n",
    "import openai\n",
    "import time\n",
    "import prettytable\n",
    "with open ('/home/solo/Desktop/chatgpt api key', 'r') as file:\n",
    " api_key = file.read().strip()\n",
    "\n",
    "#store the API key in an environment variable\n",
    "os.environ[\"OPENAI_API_KEY\"] = api_key\n",
    "\n",
    "# use the api key to authenticate\n",
    "openai.api_key = api_key\n",
    "\n",
    "models = ['text-babbage-001', 'text-curie-001', 'text-davinci-002', 'text-davinci-003']\n",
    "\n"
   ]
  },
  {
   "cell_type": "code",
   "execution_count": 35,
   "metadata": {},
   "outputs": [
    {
     "name": "stdout",
     "output_type": "stream",
     "text": [
      "Select a model\n",
      "1. text-babbage-001\n",
      "2. text-curie-001\n",
      "3. text-davinci-002\n",
      "4. text-davinci-003\n",
      "Error: \n",
      "\n",
      "You tried to access openai.Completion, but this is no longer supported in openai>=1.0.0 - see the README at https://github.com/openai/openai-python for the API.\n",
      "\n",
      "You can run `openai migrate` to automatically upgrade your codebase to use the 1.0.0 interface. \n",
      "\n",
      "Alternatively, you can pin your installation to the old version, e.g. `pip install openai==0.28`\n",
      "\n",
      "A detailed migration guide is available here: https://github.com/openai/openai-python/discussions/742\n",
      "\n"
     ]
    }
   ],
   "source": [
    "#define the rate limit (eg 10 requests per minute)\n",
    "rate_limit = 10\n",
    "rate_limit_interval = 60\n",
    "\n",
    "#initialize a counter for the rate limit interval\n",
    "request_count = 0\n",
    "\n",
    "#Timestamp for the start of the rate limit\n",
    "interval_start = time.time()\n",
    "\n",
    "#continually prompt the user for questions\n",
    "while True:\n",
    "    #ask the user to enter a question\n",
    "    question = input(\"Enter a question (type EXIT in all caps to exit): \")\n",
    "\n",
    "    #check if the user wants to exit\n",
    "    if question.upper() == \"EXIT\":\n",
    "        break\n",
    "\n",
    "    #check if the rate limit has been exceeded\n",
    "    if request_count >= rate_limit:\n",
    "        time_elapsed = time.time() - interval_start\n",
    "        if time_elapsed < rate_limit_interval:\n",
    "            time_remaining = rate_limit_interval - time_elapsed\n",
    "            print(f\"Rate limit exceeded. Please wait {time_remaining:.2f} seconds\")\n",
    "            continue\n",
    "        else:\n",
    "            #Reset the rate limit counter and interval start time\n",
    "            request_count = 0 \n",
    "            interval_start = time.time()\n",
    "    #ask the user to select a model\n",
    "    print(\"Select a model\")\n",
    "    for i, model in enumerate(models):\n",
    "        print(f\"{i + 1}. {model}\")\n",
    "    try:\n",
    "        selected_model = int(input(\"Enter the number of the model you want to use: \")) - 1\n",
    "        if selected_model <0 or selected_model >= len(models):\n",
    "            raise ValueError(\"Invalid model number\")\n",
    "    except ValueError as error:\n",
    "        print(f\"Error {error}\")    \n",
    "        continue\n",
    "    #generate text\n",
    "    try:\n",
    "        response = openai.Completion.create(\n",
    "            engine = models[selected_model],\n",
    "            prompt=question,\n",
    "            max_tokens=2000\n",
    "        )\n",
    "    except openai.OpenAIError as error:\n",
    "        print(f\"Error: {error}\")\n",
    "        continue\n",
    "    # print the generated text using prettytable\n",
    "    table = prettytable.prettytable([\"Model\", \"Response\"])\n",
    "    table.add_row([models[selected_model], response[\"choices\"][0][\"text\"]])\n",
    "    table.max_width = 100\n",
    "\n",
    "    #increment the rate limit counter\n",
    "    request_count += 1\n",
    "   \n",
    "        \n",
    "    \n",
    "      \n",
    "        \n",
    "\n",
    "\n",
    "\n"
   ]
  },
  {
   "cell_type": "code",
   "execution_count": null,
   "metadata": {},
   "outputs": [],
   "source": []
  },
  {
   "cell_type": "code",
   "execution_count": null,
   "metadata": {},
   "outputs": [],
   "source": []
  }
 ],
 "metadata": {
  "kernelspec": {
   "display_name": "Python 3",
   "language": "python",
   "name": "python3"
  },
  "language_info": {
   "codemirror_mode": {
    "name": "ipython",
    "version": 3
   },
   "file_extension": ".py",
   "mimetype": "text/x-python",
   "name": "python",
   "nbconvert_exporter": "python",
   "pygments_lexer": "ipython3",
   "version": "3.11.6"
  }
 },
 "nbformat": 4,
 "nbformat_minor": 2
}
