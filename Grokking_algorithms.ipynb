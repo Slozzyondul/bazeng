{
 "cells": [
  {
   "cell_type": "code",
   "execution_count": 1,
   "metadata": {},
   "outputs": [],
   "source": [
    "import numpy as np\n",
    "\n",
    "# Generate a NumPy array of 128 ordered integers\n",
    "list = np.arange(1, 10)\n",
    "\n",
    "low = list[0]\n",
    "high = len(list) - 1\n",
    "mid = (low + high)/2\n",
    "guess = mid\n",
    "\n",
    "#if the guess is too low update low accordingly\n",
    "\n",
    "#if the guess is too high, update high \n",
    "\n",
    "item = int(input(\"Enter a number between 1 and 129\"))\n",
    "\n",
    "def binary_search(list, item):\n",
    "    low = 0\n",
    "    high = len(list) - 1\n",
    "\n",
    "    while low <= high:\n",
    "        mid = (low + high)\n",
    "        guess = list[mid]\n",
    "        if guess == item:\n",
    "            #print(\"got it\")\n",
    "            return mid\n",
    "        \n",
    "        if guess > item:\n",
    "            #print(\"Try lower abit\")\n",
    "            high = mid - 1\n",
    "        else:\n",
    "            low = mid + 1\n",
    "            #print(\"try a little higer\")\n",
    "    return None        \n",
    "\n",
    "binary_search(list, item)      "
   ]
  },
  {
   "cell_type": "code",
   "execution_count": 27,
   "metadata": {},
   "outputs": [
    {
     "data": {
      "text/plain": [
       "9"
      ]
     },
     "execution_count": 27,
     "metadata": {},
     "output_type": "execute_result"
    }
   ],
   "source": [
    "#sort an array from smallest to largest\n",
    "\n",
    "#A function to find the smallest element in an array\n",
    "\n",
    "arr = [9,2,3,4,5,6,7,8,10,0,1]\n",
    "\n",
    "def findSmallest(arr):\n",
    "    smallest = arr[0] #stores the smallest value\n",
    "    smallest_index = 0 #stores the index of the smallest value\n",
    "    for i in range(1, len(arr)):\n",
    "        if arr[i] < smallest:\n",
    "            smallest = arr[i]\n",
    "            smallest_index = i\n",
    "    return smallest_index\n",
    "\n",
    "findSmallest(arr)\n",
    "\n",
    "#This function essentially finds the index of the smallest element in the given list using a linear search. Keep in mind that if there are multiple occurrences of the smallest element, the function will return the index of the first occurrence."
   ]
  },
  {
   "cell_type": "code",
   "execution_count": 28,
   "metadata": {},
   "outputs": [
    {
     "data": {
      "text/plain": [
       "[0, 1, 2, 3, 4, 5, 6, 7, 8, 9, 10]"
      ]
     },
     "execution_count": 28,
     "metadata": {},
     "output_type": "execute_result"
    }
   ],
   "source": [
    "\n",
    "#selection sort using the prior function\n",
    "\n",
    "def selectionSort(arr): #Sorts an array\n",
    "    newArr = []\n",
    "    for i in range(len(arr)):\n",
    "        smallest = findSmallest(arr) #Finds the smallest element in the array, and adds it to the new array\n",
    "        newArr.append(arr.pop(smallest))\n",
    "    return newArr\n",
    "\n",
    "selectionSort(arr)    \n"
   ]
  },
  {
   "cell_type": "code",
   "execution_count": 42,
   "metadata": {},
   "outputs": [
    {
     "ename": "NameError",
     "evalue": "name 'main_box' is not defined",
     "output_type": "error",
     "traceback": [
      "\u001b[0;31m---------------------------------------------------------------------------\u001b[0m",
      "\u001b[0;31mNameError\u001b[0m                                 Traceback (most recent call last)",
      "Cell \u001b[0;32mIn[42], line 12\u001b[0m\n\u001b[1;32m      9\u001b[0m             \u001b[38;5;28;01melif\u001b[39;00m item\u001b[38;5;241m.\u001b[39mis_a_key():\n\u001b[1;32m     10\u001b[0m                 \u001b[38;5;28mprint\u001b[39m (\u001b[38;5;124m\"\u001b[39m\u001b[38;5;124mFound the key!\u001b[39m\u001b[38;5;124m\"\u001b[39m)    \n\u001b[0;32m---> 12\u001b[0m look_for_key(\u001b[43mmain_box\u001b[49m)\n\u001b[1;32m     14\u001b[0m \u001b[38;5;66;03m#Now, this function will search through the nested structure for a key and print a message when it finds one. If the key is not found, it will simply exit the function without printing anything.\u001b[39;00m\n\u001b[1;32m     15\u001b[0m \n\u001b[1;32m     16\u001b[0m \n\u001b[1;32m     17\u001b[0m \u001b[38;5;66;03m#Recursion to search the key in a box (function calls itself)\u001b[39;00m\n\u001b[1;32m     18\u001b[0m \u001b[38;5;28;01mdef\u001b[39;00m \u001b[38;5;21mlook_for_key\u001b[39m(box):\n",
      "\u001b[0;31mNameError\u001b[0m: name 'main_box' is not defined"
     ]
    }
   ],
   "source": [
    "#while look to search for a key in a box\n",
    "def look_for_key(main_box):\n",
    "    pile = main_box.make_a_pile_to_look_through()\n",
    "    while pile is not empty:\n",
    "        box = pile.grab_a_box()\n",
    "        for item in box:\n",
    "            if item.is_a_box():\n",
    "                pile.append(item)\n",
    "            elif item.is_a_key():\n",
    "                print (\"Found the key!\")    \n",
    "\n",
    "look_for_key(main_box)\n",
    "\n",
    "#Now, this function will search through the nested structure for a key and print a message when it finds one. If the key is not found, it will simply exit the function without printing anything.\n",
    "\n",
    "\n",
    "#Recursion to search the key in a box (function calls itself)\n",
    "def look_for_key(box):\n",
    "    for item in box:\n",
    "        if item.is_a_box():\n",
    "            look_for_key(item)\n",
    "        elif item.is_a_key():\n",
    "            print (\"found the key!\")                  \n",
    "                          "
   ]
  },
  {
   "cell_type": "code",
   "execution_count": null,
   "metadata": {},
   "outputs": [
    {
     "name": "stdout",
     "output_type": "stream",
     "text": [
      "3\n",
      "2\n",
      "1\n",
      "0\n"
     ]
    }
   ],
   "source": [
    "#A function that prints a countdown\n",
    "def countdown(i):\n",
    "    print(i)\n",
    "    if i <= 0: #base case\n",
    "        return\n",
    "    else: #recursive case\n",
    "        countdown(i-1)\n",
    "\n",
    "countdown(6)"
   ]
  },
  {
   "cell_type": "code",
   "execution_count": 74,
   "metadata": {},
   "outputs": [
    {
     "name": "stdout",
     "output_type": "stream",
     "text": [
      "Hello, Mr Solomon!\n",
      "How are you, Solomon?\n",
      "Getting ready to say bye...\n",
      "ok bye!\n",
      "How are you, Chiellini?\n"
     ]
    }
   ],
   "source": [
    "#call stack function\n",
    "\n",
    "name = \"Solomon\"\n",
    "\n",
    "def greet(name):\n",
    "    print (\"Hello, Mr \" + name + \"!\")\n",
    "    greet2(name)\n",
    "    print(\"Getting ready to say bye...\")\n",
    "    bye()\n",
    "\n",
    "def greet2(name):\n",
    "    print(\"How are you, \" + name + \"?\")\n",
    "\n",
    "def bye():\n",
    "    print(\"ok bye!\")\n",
    "greet(name)  \n",
    "greet2(\"Chiellini\")"
   ]
  },
  {
   "cell_type": "code",
   "execution_count": null,
   "metadata": {},
   "outputs": [],
   "source": []
  }
 ],
 "metadata": {
  "kernelspec": {
   "display_name": "Python 3",
   "language": "python",
   "name": "python3"
  },
  "language_info": {
   "codemirror_mode": {
    "name": "ipython",
    "version": 3
   },
   "file_extension": ".py",
   "mimetype": "text/x-python",
   "name": "python",
   "nbconvert_exporter": "python",
   "pygments_lexer": "ipython3",
   "version": "3.12.1"
  }
 },
 "nbformat": 4,
 "nbformat_minor": 2
}
