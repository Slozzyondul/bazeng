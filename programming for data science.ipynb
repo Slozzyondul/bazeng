{
 "cells": [
  {
   "cell_type": "code",
   "execution_count": 1,
   "metadata": {},
   "outputs": [
    {
     "name": "stdout",
     "output_type": "stream",
     "text": [
      "4\n",
      "2.0\n",
      "4.0\n",
      "1.0\n"
     ]
    }
   ],
   "source": [
    "#python and mathematics\n",
    "print(2**2)\n",
    "print(2**2/2)\n",
    "print(2**2/2+2)\n",
    "print(2**2/(2+2))"
   ]
  },
  {
   "cell_type": "code",
   "execution_count": 7,
   "metadata": {},
   "outputs": [
    {
     "name": "stdout",
     "output_type": "stream",
     "text": [
      "0\n",
      "1\n",
      "3\n"
     ]
    }
   ],
   "source": [
    "#Modulus- reminder when divided by a particular number\n",
    "print(6%2)\n",
    "print(7%2)\n",
    "print(276732598%5)"
   ]
  },
  {
   "cell_type": "code",
   "execution_count": 1,
   "metadata": {},
   "outputs": [
    {
     "name": "stdout",
     "output_type": "stream",
     "text": [
      "This is an even number.\n"
     ]
    }
   ],
   "source": [
    "#Identifying even and odd numbers\n",
    "while True:\n",
    " num = int(input(\"Enter a number\")) \n",
    " mod = num % 2\n",
    " if mod > 0:\n",
    "    print(\"This is an odd number.\")\n",
    " else:\n",
    "    print(\"This is an even number.\")  \n",
    " break\n",
    " "
   ]
  },
  {
   "cell_type": "code",
   "execution_count": null,
   "metadata": {},
   "outputs": [
    {
     "name": "stdout",
     "output_type": "stream",
     "text": [
      "Keep Trying!\n"
     ]
    }
   ],
   "source": [
    "number  = int(input('Guess the lucky number. Input a positve number between 1-1,000,000'))\n",
    "\n",
    "def luck():\n",
    "    if number == 1996:\n",
    "        print(\"You Win!\")\n",
    "    elif number < 0:\n",
    "        print(\"Stop being an idiot\")\n",
    "    elif number > 1000000:\n",
    "        print(\"Please follow the instructions\")    \n",
    "    else:\n",
    "        print(\"Keep Trying!\")    \n",
    "luck()        "
   ]
  },
  {
   "cell_type": "code",
   "execution_count": 22,
   "metadata": {},
   "outputs": [
    {
     "data": {
      "text/plain": [
       "3.141592653589793"
      ]
     },
     "execution_count": 22,
     "metadata": {},
     "output_type": "execute_result"
    }
   ],
   "source": [
    "import numpy as np\n",
    "import math as m\n",
    "np.sqrt(64)\n",
    "np.pi\n",
    "m.pi"
   ]
  },
  {
   "cell_type": "code",
   "execution_count": 9,
   "metadata": {},
   "outputs": [
    {
     "name": "stdout",
     "output_type": "stream",
     "text": [
      "Hello\n",
      "Set b = [56, 34, 78]\n",
      "Mean of set b = 56.0\n",
      "Set b1 = [67, 46, 44, 3]\n",
      "Mean of set b = 40.0\n"
     ]
    },
    {
     "data": {
      "text/plain": [
       "' #variable 3\\n\\nb2 = []\\nwhile True:\\n    a2 = int(input(\"Enter a number:\"))\\n    if a2 < 100:\\n        b2.append(a2)\\n    else:\\n        print(\"Set b1 =\",b2)\\n        break    \\nc2 = np.average(b2)\\nprint(\"Mean of set b =\",c2)\\n      '"
      ]
     },
     "execution_count": 9,
     "metadata": {},
     "output_type": "execute_result"
    }
   ],
   "source": [
    "import numpy as np\n",
    "def greeter():\n",
    "    print(\"Hello\")\n",
    "greeter()\n",
    "def closer():\n",
    "    print(\"share your feedback here\")\n",
    "\n",
    "\n",
    " #variable 1   \n",
    "    \n",
    "b = []\n",
    "while True:\n",
    "    a = int(input(\"Enter a number:\"))\n",
    "    if a < 100:\n",
    "        b.append(a)\n",
    "    else:\n",
    "        print(\"Set b =\",b)\n",
    "        break    \n",
    "c = np.average(b)\n",
    "print(\"Mean of set b =\",c)\n",
    "\n",
    "#variable 2\n",
    "\n",
    "b1 = []\n",
    "while True:\n",
    "    a1 = int(input(\"Enter a number:\"))\n",
    "    if a1 < 100:\n",
    "        b1.append(a1)\n",
    "    else:\n",
    "        print(\"Set b1 =\",b1)\n",
    "        break    \n",
    "c1 = np.average(b1)\n",
    "print(\"Mean of set b =\",c1)\n",
    "\n",
    "\n",
    "\"\"\" #variable 3\n",
    "\n",
    "b2 = []\n",
    "while True:\n",
    "    a2 = int(input(\"Enter a number:\"))\n",
    "    if a2 < 100:\n",
    "        b2.append(a2)\n",
    "    else:\n",
    "        print(\"Set b1 =\",b2)\n",
    "        break    \n",
    "c2 = np.average(b2)\n",
    "print(\"Mean of set b =\",c2)\n",
    "      \"\"\"\n",
    "\n",
    "\n",
    "#Variance\n",
    "#sqd_dev = [(x - c)**2 for x in b]\n",
    "#var = sum(sqd_dev)/len(b)\n",
    "#print(sqd_dev)\n",
    "#print(\"Variance of the dataset b =\",var)\n",
    "\n",
    "#Standard deviation \n",
    "#std_dev = np.sqrt(var)\n",
    "#print(\"Standard Deviation: \", std_dev)\n",
    "#closer()"
   ]
  },
  {
   "cell_type": "code",
   "execution_count": null,
   "metadata": {},
   "outputs": [
    {
     "data": {
      "text/plain": [
       "False"
      ]
     },
     "execution_count": 1,
     "metadata": {},
     "output_type": "execute_result"
    }
   ],
   "source": [
    "5#False (equal)\n",
    "1 == 2\n",
    "#True (not equal)\n",
    "1 != 1"
   ]
  },
  {
   "cell_type": "code",
   "execution_count": null,
   "metadata": {},
   "outputs": [
    {
     "name": "stdout",
     "output_type": "stream",
     "text": [
      "UKOJE morio n\n"
     ]
    }
   ],
   "source": [
    "myName = input(\"What is your name? \")\n",
    "def salamu(name):\n",
    "    print(\"UKOJE morio \" + name)\n",
    "salamu(myName)    "
   ]
  },
  {
   "cell_type": "code",
   "execution_count": null,
   "metadata": {},
   "outputs": [
    {
     "data": {
      "text/plain": [
       "9"
      ]
     },
     "execution_count": 13,
     "metadata": {},
     "output_type": "execute_result"
    }
   ],
   "source": [
    "#Functions\n",
    "len(\"Constance\")"
   ]
  },
  {
   "cell_type": "code",
   "execution_count": 26,
   "metadata": {},
   "outputs": [
    {
     "data": {
      "text/plain": [
       "16"
      ]
     },
     "execution_count": 26,
     "metadata": {},
     "output_type": "execute_result"
    }
   ],
   "source": [
    "#square of numbers\n",
    "\n",
    "\n",
    "def squared(num):\n",
    "    squared_num = num**2\n",
    "    return squared_num\n",
    "\n",
    "number = int(input(\"Enter a Real number: \"))\n",
    "\n",
    "squared(number)\n"
   ]
  },
  {
   "cell_type": "code",
   "execution_count": null,
   "metadata": {},
   "outputs": [
    {
     "data": {
      "text/plain": [
       "129.2"
      ]
     },
     "execution_count": 47,
     "metadata": {},
     "output_type": "execute_result"
    }
   ],
   "source": [
    "#celsius to fahrenheit converter app\n",
    "def celsius_app(celsius):\n",
    "    outcome = celsius * 1.8\n",
    "    return outcome + 32\n",
    "\n",
    "temp = int(input(\"Enter the current temperature: \"))\n",
    "celsius_app(temp)"
   ]
  },
  {
   "cell_type": "code",
   "execution_count": 37,
   "metadata": {},
   "outputs": [
    {
     "name": "stdout",
     "output_type": "stream",
     "text": [
      "Try again\n"
     ]
    }
   ],
   "source": [
    "#game\n",
    "user_input = int(input(\"Enter a number between 1 - 10\"))\n",
    "\n",
    "def guess_game(n):\n",
    "    magic_num = 7\n",
    "\n",
    "    if user_input == magic_num:\n",
    "     print(\"You got it\")\n",
    "    else:\n",
    "     print(\"Try again\")    \n",
    "\n",
    "guess_game(user_input)     \n"
   ]
  },
  {
   "cell_type": "code",
   "execution_count": 38,
   "metadata": {},
   "outputs": [
    {
     "name": "stdout",
     "output_type": "stream",
     "text": [
      "The total is $62.50\n",
      "The refill is $50.100\n"
     ]
    }
   ],
   "source": [
    "price = int(input(\"What is your price? \"))\n",
    "total = price + (price * .2) + 2.5\n",
    "\n",
    "print(\"The total is ${:.2f}\".format(total))\n",
    "\n",
    "refill = price + (price * .2)/100\n",
    "\n",
    "print(\"The refill is ${:.3f}\".format(refill))"
   ]
  },
  {
   "cell_type": "code",
   "execution_count": null,
   "metadata": {},
   "outputs": [
    {
     "name": "stdout",
     "output_type": "stream",
     "text": [
      "The total price is $106.90, $105.900, $95.8000\n"
     ]
    }
   ],
   "source": [
    "price = int(input(\"What is your price? \"))\n",
    "\n",
    "def totaler(price, charge, deposit):\n",
    "    return price + (price * charge) + deposit\n",
    "\n",
    "total_1 = totaler(price, .20, 2.50)\n",
    "total_2 = totaler(price, .20, 1.5)\n",
    "total_3 = totaler(price, .10, .1)\n",
    "\n",
    "print(\"The total price is ${:.2f}, ${:.3f}, ${:.4f}\".format(total_1, total_2, total_3)) #{:.2f}-two decimal places"
   ]
  },
  {
   "cell_type": "code",
   "execution_count": null,
   "metadata": {},
   "outputs": [
    {
     "name": "stdout",
     "output_type": "stream",
     "text": [
      "wewe\n",
      "hkj\n",
      "97\n",
      "solo\n",
      "tuliz\n",
      "hahaha\n",
      "wanna\n",
      "hjkj\n",
      "GHG\n",
      "87ZUJ\n",
      "Ghj\n",
      "fjhf\n",
      "Set c = ['wewe', 'hkj', '97', 'solo', 'tuliz', 'hahaha', 'wanna', 'hjkj', 'GHG', '87ZUJ', 'Ghj', 'fjhf']\n"
     ]
    }
   ],
   "source": [
    "# list checker function\n",
    "def checker():\n",
    "    \n",
    "    while True:\n",
    "     c = [\"wewe\", \"hkj\", \"97\", \"solo\", \"tuliz\", \"hahaha\", \"wanna\", \"hjkj\", \"GHG\", \"87ZUJ\", \"Ghj\"]\n",
    "\n",
    "     a = (input(\"Enter a name:\"))\n",
    "     c.append(a)\n",
    "     for n in c: \n",
    "      print(n)\n",
    "     else:\n",
    "       break \n",
    "\n",
    "    print(\"Set c =\",c)\n",
    "\n",
    "         \n",
    "\n",
    "checker()\n",
    "#print(\"here is your list: {}\".format(c))\n"
   ]
  },
  {
   "cell_type": "code",
   "execution_count": null,
   "metadata": {},
   "outputs": [
    {
     "name": "stdout",
     "output_type": "stream",
     "text": [
      "here is your list: ['milk', 'eggs', 'berries']\n",
      "Added ghj to the list. Current list looks like this: \n",
      "['milk', 'eggs', 'berries', 'ghj']\n"
     ]
    }
   ],
   "source": [
    "#Grocery checker\n",
    "def grocery_checker():\n",
    "    grocery_list = [\"milk\", \"eggs\", \"berries\"]\n",
    "    print(\"here is your list: {}\".format(grocery_list))\n",
    "    item = input(\"What item do you need to add? \")\n",
    "    # checking if the item is not in the current list in lowercase\n",
    "    if item.lower() not in grocery_list:\n",
    "        grocery_list.append(item)\n",
    "        print(\"Added {} to the list. Current list looks like this: \".format(item))\n",
    "        print(grocery_list)\n",
    "    else:\n",
    "        print(\"Item already exists\")\n",
    "grocery_checker()            "
   ]
  },
  {
   "cell_type": "code",
   "execution_count": null,
   "metadata": {},
   "outputs": [
    {
     "name": "stdout",
     "output_type": "stream",
     "text": [
      "0\n",
      "1\n",
      "2\n",
      "3\n",
      "3\n",
      "4\n",
      "5\n",
      "3\n",
      "5\n",
      "7\n"
     ]
    }
   ],
   "source": [
    "#for loops\n",
    "for n in range(4):\n",
    "    print(n)\n",
    "\n",
    "\n",
    "for n in range(3,6):\n",
    "    print(n) \n",
    "\n",
    "#write a for loop that prints out 3,5,7 from 3-8 not including 8 in steps of 2\n",
    "for n in range(3,8,2):\n",
    "    print(n)\n",
    "         \n"
   ]
  },
  {
   "cell_type": "code",
   "execution_count": null,
   "metadata": {},
   "outputs": [
    {
     "name": "stdout",
     "output_type": "stream",
     "text": [
      "COnstance\n",
      "Octavia\n"
     ]
    }
   ],
   "source": [
    "#exit a loop with break\n",
    "list_name = [\"COnstance\", \"Octavia\", \"Solomon\", \"Hannah\", \"wewe\"]\n",
    "\n",
    "for name in list_name:\n",
    "    if name == \"Solomon\":\n",
    "        break\n",
    "    print(name)"
   ]
  },
  {
   "cell_type": "code",
   "execution_count": null,
   "metadata": {},
   "outputs": [
    {
     "name": "stdout",
     "output_type": "stream",
     "text": [
      "COnstance\n",
      "Octavia\n",
      "Hannah\n",
      "wewe\n"
     ]
    }
   ],
   "source": [
    "#continue a loop with continue \n",
    "list_name = [\"COnstance\", \"Octavia\", \"Solomon\", \"Hannah\", \"wewe\"]\n",
    "\n",
    "for name in list_name:\n",
    "    if name == \"Solomon\":\n",
    "        continue\n",
    "    print(name)"
   ]
  },
  {
   "cell_type": "code",
   "execution_count": null,
   "metadata": {},
   "outputs": [
    {
     "data": {
      "text/plain": [
       "['1.21', '2.29', '14.52', '6.13', '24.36', '33.85', '1.92']"
      ]
     },
     "execution_count": 83,
     "metadata": {},
     "output_type": "execute_result"
    }
   ],
   "source": [
    "#Data cleaning example (stripping info/data)\n",
    "\n",
    "sales = ['$1.21', '$2.29', '$14.52', '$6.13', '$24.36', '33.85', '$1.92']\n",
    "[s.lstrip(\"$\") for s in sales]\n",
    "\n",
    "\n"
   ]
  },
  {
   "cell_type": "code",
   "execution_count": null,
   "metadata": {},
   "outputs": [
    {
     "data": {
      "text/plain": [
       "['1.21', '2.29', '14.52', '6.13', '24.36', '33.85', '1.92']"
      ]
     },
     "execution_count": 86,
     "metadata": {},
     "output_type": "execute_result"
    }
   ],
   "source": [
    "[sales[i].strip('$') for i in range(len(sales))]"
   ]
  },
  {
   "cell_type": "code",
   "execution_count": null,
   "metadata": {},
   "outputs": [],
   "source": [
    "def checker():\n",
    "    \n",
    "    while True:\n",
    "     c = [\"wewe\", \"hkj\", \"97\", \"solo\", \"tuliz\", \"hahaha\", \"wanna\", \"hjkj\", \"GHG\", \"87ZUJ\", \"Ghj\"]\n",
    "\n",
    "     a = (input(\"Enter a name:\"))\n",
    "     c.append(a)\n",
    "     for n in c: \n",
    "      print(n)\n",
    "     else:\n",
    "       break \n",
    "\n",
    "    print(\"Set c =\",c)\n",
    "  \n"
   ]
  },
  {
   "cell_type": "code",
   "execution_count": null,
   "metadata": {},
   "outputs": [
    {
     "name": "stdout",
     "output_type": "stream",
     "text": [
      "1\n"
     ]
    }
   ],
   "source": [
    "#break\n",
    "i = 1\n",
    "while i < 10:\n",
    "    print(i)\n",
    "    if i == 1:\n",
    "        break\n",
    "    i += 2\n"
   ]
  },
  {
   "cell_type": "code",
   "execution_count": null,
   "metadata": {},
   "outputs": [
    {
     "name": "stdout",
     "output_type": "stream",
     "text": [
      "4\n",
      "6\n",
      "8\n",
      "10\n",
      "i is now greater than 11\n"
     ]
    }
   ],
   "source": [
    "#sequence, guess the next number addition\n",
    "i = int(input(\"Enter starting number: \"))\n",
    "while i <= 20:\n",
    "    print(i)\n",
    "    i = i + 2 # same as (i += 2)\n",
    "else:\n",
    "    print(\"i is now greater than 11\")\n",
    "\n"
   ]
  },
  {
   "cell_type": "code",
   "execution_count": 50,
   "metadata": {},
   "outputs": [
    {
     "name": "stdout",
     "output_type": "stream",
     "text": [
      "2\n",
      "4\n",
      "i is now greater than 11\n"
     ]
    }
   ],
   "source": [
    "#sequence, guess the next number addition\n",
    "def seq (i):\n",
    " i = int(input(\"Enter starting number: \"))\n",
    " while i <= 5 and i >= 0:\n",
    "    print(i)\n",
    "    i = i + 2 # same as (i += 2)\n",
    "\n",
    " else:\n",
    "    print(\"i is now greater than 11\")    \n",
    "seq (i)"
   ]
  },
  {
   "cell_type": "code",
   "execution_count": 55,
   "metadata": {},
   "outputs": [
    {
     "name": "stdout",
     "output_type": "stream",
     "text": [
      "Deposit $12.00 to buy 1000000 coins\n"
     ]
    }
   ],
   "source": [
    "request = int(input(\"Enter the number of crypto you wish to buy: \"))\n",
    "\n",
    "def crypto_calc (coins):\n",
    "    coin_order = int(coins)*0.000012\n",
    "    print(\"Deposit ${:.2f} to buy {} coins\".format(round(coin_order, 2), coins))    \n",
    "crypto_calc(request)    \n"
   ]
  },
  {
   "cell_type": "code",
   "execution_count": 68,
   "metadata": {},
   "outputs": [
    {
     "name": "stdout",
     "output_type": "stream",
     "text": [
      "You can enter the bar\n"
     ]
    }
   ],
   "source": [
    "My_age = int(input(\"Enter age: \"))\n",
    "\n",
    "def age_calc(age):\n",
    "    if age >= 21:\n",
    "        print(\"You can enter the bar\")\n",
    "    elif age >= 18 and  age < 21:\n",
    "        print(\"You can dine but not drink\")\n",
    "    else:\n",
    "        print(\"You cannot enter the bar\")\n",
    "\n",
    "age_calc(My_age)            \n",
    "    "
   ]
  },
  {
   "cell_type": "code",
   "execution_count": 71,
   "metadata": {},
   "outputs": [
    {
     "name": "stdout",
     "output_type": "stream",
     "text": [
      "T-minus 10\n",
      "T-minus 9\n",
      "T-minus 8\n",
      "T-minus 7\n",
      "T-minus 6\n",
      "T-minus 5\n",
      "T-minus 4\n",
      "T-minus 3\n",
      "T-minus 2\n",
      "T-minus 1\n",
      "Take Off\n"
     ]
    }
   ],
   "source": [
    "count = 10\n",
    "while count:\n",
    "    print(f\"T-minus {count}\")\n",
    "    count -= 1\n",
    "print(\"Take Off\")    \n"
   ]
  },
  {
   "cell_type": "code",
   "execution_count": 47,
   "metadata": {},
   "outputs": [
    {
     "data": {
      "text/plain": [
       "'wewe'"
      ]
     },
     "execution_count": 47,
     "metadata": {},
     "output_type": "execute_result"
    }
   ],
   "source": [
    "#Sublists\n",
    "sub_list = [\"Jonathan\", [1,2,3], \"data\", [4,5,6,[\"ati\",\"wewe\"], 7,8], \"study\"]\n",
    "sub_list[3][3][1]"
   ]
  },
  {
   "cell_type": "code",
   "execution_count": 56,
   "metadata": {},
   "outputs": [
    {
     "name": "stdout",
     "output_type": "stream",
     "text": [
      "[[\"You're\", 'mighty', 'awesome'], ['Stay', 'most', 'fabulous'], ['Always', 'truly']]\n",
      "[[\"You're\", 'mighty', 'awesome']]\n",
      "['Stay', 'most', 'fabulous']\n",
      "['Always', 'truly']\n",
      "mighty\n"
     ]
    }
   ],
   "source": [
    "#lists/ Transposing data\n",
    "\n",
    "compliments = [[\"You're\", \"mighty\", 'awesome'], ['Stay', 'most', 'fabulous'], ['Always', 'truly']]\n",
    "print(compliments)\n",
    "column_1 = []\n",
    "column_1.append(compliments[0])\n",
    "print(column_1)\n",
    "\n",
    "column_2 = compliments[1]\n",
    "print(column_2)\n",
    "\n",
    "column_3 = compliments[2]\n",
    "print(column_3)\n",
    "\n",
    "print(\n",
    "    compliments[0][1]\n",
    ")\n"
   ]
  },
  {
   "cell_type": "code",
   "execution_count": 71,
   "metadata": {},
   "outputs": [
    {
     "name": "stdout",
     "output_type": "stream",
     "text": [
      "[\"You're\", 'Stay', 'Always']\n",
      "['mighty', 'most', 'truly']\n",
      "['awesome', 'fabulous', 'stunning']\n",
      "si Always most stunning\n",
      "[['Always', 'truly', 'stunning'], ['Stay', 'most', 'fabulous'], [\"You're\", 'mighty', 'awesome']]\n"
     ]
    }
   ],
   "source": [
    "#converting sentences/series into matrix\n",
    "compliments = [[\"You're\", \"mighty\", 'awesome'], ['Stay', 'most', 'fabulous'], ['Always', 'truly', \"stunning\"]]\n",
    "column_1 = []\n",
    "column_2 = []\n",
    "column_3 = [] \n",
    "\n",
    "name = input(\"Whaz is your name? \")\n",
    "\n",
    "for list in compliments:\n",
    "    column_1.append(list[0])\n",
    "    column_2.append(list[1])\n",
    "    column_3.append(list[2])\n",
    "print(column_1)\n",
    "print(column_2)\n",
    "print(column_3)    \n",
    "\n",
    "print(name, column_1[2], column_2[1], column_3[2]) \n",
    "\n",
    "#reversing the order of a list\n",
    "compliments.reverse()\n",
    "print (compliments)\n"
   ]
  },
  {
   "cell_type": "code",
   "execution_count": 6,
   "metadata": {},
   "outputs": [
    {
     "name": "stdout",
     "output_type": "stream",
     "text": [
      "None\n"
     ]
    }
   ],
   "source": [
    "list = [1,2,3,4,4,5]\n",
    "list.count(4)\n",
    "n_list = list.append(31)\n",
    "print(n_list)\n"
   ]
  },
  {
   "cell_type": "code",
   "execution_count": 20,
   "metadata": {},
   "outputs": [
    {
     "name": "stdout",
     "output_type": "stream",
     "text": [
      "[ 38538 750788 622057 ... 911143 284628 136210]\n",
      "499467.2595\n"
     ]
    },
    {
     "data": {
      "text/plain": [
       "array([1.000e+00, 1.010e+02, 2.010e+02, ..., 9.998e+05, 9.999e+05,\n",
       "       1.000e+06])"
      ]
     },
     "execution_count": 20,
     "metadata": {},
     "output_type": "execute_result"
    }
   ],
   "source": [
    "#Python for data Analysis\n",
    "#Import data analysis libraries pandas and numpy\n",
    "#programming Styles\n",
    "import pandas as pd \n",
    "import numpy as np\n",
    "import matplotlib as plt\n",
    "import seaborn as sns \n",
    "\n",
    "#Use numpy to generate 1000,000 random integers between 1-100\n",
    "dataset = np.random.randint(1,1000000,10000)\n",
    "mean = np.average(dataset)\n",
    "print(dataset)\n",
    "print(mean)\n",
    "\n",
    "#create a random floats that are evenly distributed between 1 and 1000,000\n",
    "floats = np.linspace(1,1000000,10000)\n",
    "floats\n",
    "\n",
    "#round the number to one decimal place\n",
    "floats1 = np.around(floats)\n",
    "floats1\n",
    "\n",
    "\n"
   ]
  },
  {
   "cell_type": "code",
   "execution_count": 60,
   "metadata": {},
   "outputs": [
    {
     "data": {
      "text/plain": [
       "pandas.core.frame.DataFrame"
      ]
     },
     "execution_count": 60,
     "metadata": {},
     "output_type": "execute_result"
    }
   ],
   "source": [
    "#wrangle data\n",
    "data1 = np.linspace(1,1000000,10000)\n",
    "#data1\n",
    "series = pd.Series(data1)\n",
    "series\n",
    "#Indexing from 1 rather than the using 0(Set index to 1)\n",
    "series.index = series.index + 1\n",
    "\n",
    "series\n",
    "\n",
    "series.mean()\n",
    "series[3332]\n",
    "series.shape\n",
    "\n",
    "#create a two dimensional data frame\n",
    "df = pd.DataFrame(data1, columns=['ratings'])\n",
    "df\n",
    "df.index = df.index + 1\n",
    "df\n",
    "\n",
    "type(df)\n"
   ]
  },
  {
   "cell_type": "code",
   "execution_count": 142,
   "metadata": {},
   "outputs": [
    {
     "data": {
      "text/html": [
       "<div>\n",
       "<style scoped>\n",
       "    .dataframe tbody tr th:only-of-type {\n",
       "        vertical-align: middle;\n",
       "    }\n",
       "\n",
       "    .dataframe tbody tr th {\n",
       "        vertical-align: top;\n",
       "    }\n",
       "\n",
       "    .dataframe thead th {\n",
       "        text-align: right;\n",
       "    }\n",
       "</style>\n",
       "<table border=\"1\" class=\"dataframe\">\n",
       "  <thead>\n",
       "    <tr style=\"text-align: right;\">\n",
       "      <th></th>\n",
       "      <th>R&amp;D Spend</th>\n",
       "      <th>Administration</th>\n",
       "      <th>Marketing Spend</th>\n",
       "      <th>Profit</th>\n",
       "    </tr>\n",
       "  </thead>\n",
       "  <tbody>\n",
       "    <tr>\n",
       "      <th>count</th>\n",
       "      <td>1000.000000</td>\n",
       "      <td>1000.000000</td>\n",
       "      <td>1000.000000</td>\n",
       "      <td>1000.000000</td>\n",
       "    </tr>\n",
       "    <tr>\n",
       "      <th>mean</th>\n",
       "      <td>81668.927200</td>\n",
       "      <td>122963.897612</td>\n",
       "      <td>226205.058419</td>\n",
       "      <td>119546.164656</td>\n",
       "    </tr>\n",
       "    <tr>\n",
       "      <th>std</th>\n",
       "      <td>46537.567891</td>\n",
       "      <td>12613.927535</td>\n",
       "      <td>91578.393542</td>\n",
       "      <td>42888.633848</td>\n",
       "    </tr>\n",
       "    <tr>\n",
       "      <th>min</th>\n",
       "      <td>0.000000</td>\n",
       "      <td>51283.140000</td>\n",
       "      <td>0.000000</td>\n",
       "      <td>14681.400000</td>\n",
       "    </tr>\n",
       "    <tr>\n",
       "      <th>25%</th>\n",
       "      <td>43084.500000</td>\n",
       "      <td>116640.684850</td>\n",
       "      <td>150969.584600</td>\n",
       "      <td>85943.198543</td>\n",
       "    </tr>\n",
       "    <tr>\n",
       "      <th>50%</th>\n",
       "      <td>79936.000000</td>\n",
       "      <td>122421.612150</td>\n",
       "      <td>224517.887350</td>\n",
       "      <td>117641.466300</td>\n",
       "    </tr>\n",
       "    <tr>\n",
       "      <th>75%</th>\n",
       "      <td>124565.500000</td>\n",
       "      <td>129139.118000</td>\n",
       "      <td>308189.808525</td>\n",
       "      <td>155577.107425</td>\n",
       "    </tr>\n",
       "    <tr>\n",
       "      <th>max</th>\n",
       "      <td>165349.200000</td>\n",
       "      <td>321652.140000</td>\n",
       "      <td>471784.100000</td>\n",
       "      <td>476485.430000</td>\n",
       "    </tr>\n",
       "  </tbody>\n",
       "</table>\n",
       "</div>"
      ],
      "text/plain": [
       "           R&D Spend  Administration  Marketing Spend         Profit\n",
       "count    1000.000000     1000.000000      1000.000000    1000.000000\n",
       "mean    81668.927200   122963.897612    226205.058419  119546.164656\n",
       "std     46537.567891    12613.927535     91578.393542   42888.633848\n",
       "min         0.000000    51283.140000         0.000000   14681.400000\n",
       "25%     43084.500000   116640.684850    150969.584600   85943.198543\n",
       "50%     79936.000000   122421.612150    224517.887350  117641.466300\n",
       "75%    124565.500000   129139.118000    308189.808525  155577.107425\n",
       "max    165349.200000   321652.140000    471784.100000  476485.430000"
      ]
     },
     "execution_count": 142,
     "metadata": {},
     "output_type": "execute_result"
    }
   ],
   "source": [
    "x = pd.read_csv(\"/home/solo/Desktop/Companies.csv\")\n",
    "x\n",
    "#counting from 1\n",
    "#x.index = x.index + 1\n",
    "x\n",
    "\n",
    "#functions and methods\n",
    "def preview(rows):\n",
    "    df = pd.read_csv(\"/home/solo/Desktop/Companies.csv\")\n",
    "    return df.head(rows)\n",
    "\n",
    "preview(9)\n",
    "\n",
    "#iloc and loc\n",
    "mini = x.iloc[[1, 2, 8]]\n",
    "mini\n",
    "mini2 = x.loc\n",
    "\n",
    "#Extract DataFrame rows using the index syntax \n",
    "mini3 = x.iloc[:2]\n",
    "mini3\n",
    "#Series vs Dataframes\n",
    "mini4 = x.iloc[2]\n",
    "#type(mini3)\n",
    "#type(mini4)\n",
    "#print(x)\n",
    "x.describe()\n",
    "\n",
    "\n"
   ]
  },
  {
   "cell_type": "code",
   "execution_count": 157,
   "metadata": {},
   "outputs": [],
   "source": [
    "#CLASSES \n",
    "import pandas as pd\n",
    "import matplotlib.pyplot as plt\n",
    "import seaborn as sns\n",
    "\n",
    "y = pd.read_csv(\"/home/solo/Desktop/Companies.csv\")\n",
    "y.head()\n",
    "\n",
    "#SPECIAL METHODS/ magic/ dunder\n",
    "class Summmary:\n",
    "    def __init__(self, data):\n",
    "        self.x = pd.read_csv(\"/home/solo/Desktop/Companies.csv\")\n",
    "\n"
   ]
  },
  {
   "cell_type": "code",
   "execution_count": 161,
   "metadata": {},
   "outputs": [
    {
     "data": {
      "text/plain": [
       "'Solomon Training'"
      ]
     },
     "execution_count": 161,
     "metadata": {},
     "output_type": "execute_result"
    }
   ],
   "source": [
    "#CLASS WITH ATTRIBUTES\n",
    "class Summmary:\n",
    "    def __init__ (self, data, name):\n",
    "        self.df = pd.read_csv(\"/home/solo/Desktop/Companies.csv\")\n",
    "        self.name = name #attribute\n",
    "data = Summmary(\"/home/solo/Desktop/Companies.csv\", \"Solomon Training\")        \n",
    "data.name\n"
   ]
  },
  {
   "cell_type": "code",
   "execution_count": 172,
   "metadata": {},
   "outputs": [
    {
     "data": {
      "text/html": [
       "<div>\n",
       "<style scoped>\n",
       "    .dataframe tbody tr th:only-of-type {\n",
       "        vertical-align: middle;\n",
       "    }\n",
       "\n",
       "    .dataframe tbody tr th {\n",
       "        vertical-align: top;\n",
       "    }\n",
       "\n",
       "    .dataframe thead th {\n",
       "        text-align: right;\n",
       "    }\n",
       "</style>\n",
       "<table border=\"1\" class=\"dataframe\">\n",
       "  <thead>\n",
       "    <tr style=\"text-align: right;\">\n",
       "      <th></th>\n",
       "      <th>R&amp;D Spend</th>\n",
       "      <th>Administration</th>\n",
       "      <th>Marketing Spend</th>\n",
       "      <th>State</th>\n",
       "      <th>Profit</th>\n",
       "    </tr>\n",
       "  </thead>\n",
       "  <tbody>\n",
       "    <tr>\n",
       "      <th>0</th>\n",
       "      <td>165349.20</td>\n",
       "      <td>136897.80</td>\n",
       "      <td>471784.10</td>\n",
       "      <td>New York</td>\n",
       "      <td>192261.83</td>\n",
       "    </tr>\n",
       "    <tr>\n",
       "      <th>1</th>\n",
       "      <td>162597.70</td>\n",
       "      <td>151377.59</td>\n",
       "      <td>443898.53</td>\n",
       "      <td>California</td>\n",
       "      <td>191792.06</td>\n",
       "    </tr>\n",
       "    <tr>\n",
       "      <th>2</th>\n",
       "      <td>153441.51</td>\n",
       "      <td>101145.55</td>\n",
       "      <td>407934.54</td>\n",
       "      <td>Florida</td>\n",
       "      <td>191050.39</td>\n",
       "    </tr>\n",
       "    <tr>\n",
       "      <th>3</th>\n",
       "      <td>144372.41</td>\n",
       "      <td>118671.85</td>\n",
       "      <td>383199.62</td>\n",
       "      <td>New York</td>\n",
       "      <td>182901.99</td>\n",
       "    </tr>\n",
       "    <tr>\n",
       "      <th>4</th>\n",
       "      <td>142107.34</td>\n",
       "      <td>91391.77</td>\n",
       "      <td>366168.42</td>\n",
       "      <td>Florida</td>\n",
       "      <td>166187.94</td>\n",
       "    </tr>\n",
       "  </tbody>\n",
       "</table>\n",
       "</div>"
      ],
      "text/plain": [
       "   R&D Spend  Administration  Marketing Spend       State     Profit\n",
       "0  165349.20       136897.80        471784.10    New York  192261.83\n",
       "1  162597.70       151377.59        443898.53  California  191792.06\n",
       "2  153441.51       101145.55        407934.54     Florida  191050.39\n",
       "3  144372.41       118671.85        383199.62    New York  182901.99\n",
       "4  142107.34        91391.77        366168.42     Florida  166187.94"
      ]
     },
     "execution_count": 172,
     "metadata": {},
     "output_type": "execute_result"
    }
   ],
   "source": [
    "#CLASS WITH LOGIC\n",
    "class Summmary:\n",
    "    def __init__ (self, data):\n",
    "        self.df = pd.read_csv(\"/home/solo/Desktop/Companies.csv\")\n",
    "    def print_head(self):\n",
    "        return self.df.head()\n",
    "data = Summmary(\"/home/solo/Desktop/Companies.csv\")    \n",
    "data.print_head()"
   ]
  },
  {
   "cell_type": "code",
   "execution_count": 179,
   "metadata": {},
   "outputs": [
    {
     "data": {
      "text/html": [
       "<div>\n",
       "<style scoped>\n",
       "    .dataframe tbody tr th:only-of-type {\n",
       "        vertical-align: middle;\n",
       "    }\n",
       "\n",
       "    .dataframe tbody tr th {\n",
       "        vertical-align: top;\n",
       "    }\n",
       "\n",
       "    .dataframe thead th {\n",
       "        text-align: right;\n",
       "    }\n",
       "</style>\n",
       "<table border=\"1\" class=\"dataframe\">\n",
       "  <thead>\n",
       "    <tr style=\"text-align: right;\">\n",
       "      <th></th>\n",
       "      <th>R&amp;D Spend</th>\n",
       "      <th>Administration</th>\n",
       "      <th>Marketing Spend</th>\n",
       "      <th>State</th>\n",
       "      <th>Profit</th>\n",
       "    </tr>\n",
       "  </thead>\n",
       "  <tbody>\n",
       "    <tr>\n",
       "      <th>0</th>\n",
       "      <td>165349.20</td>\n",
       "      <td>136897.80</td>\n",
       "      <td>471784.10</td>\n",
       "      <td>New York</td>\n",
       "      <td>192261.83</td>\n",
       "    </tr>\n",
       "    <tr>\n",
       "      <th>1</th>\n",
       "      <td>162597.70</td>\n",
       "      <td>151377.59</td>\n",
       "      <td>443898.53</td>\n",
       "      <td>California</td>\n",
       "      <td>191792.06</td>\n",
       "    </tr>\n",
       "    <tr>\n",
       "      <th>2</th>\n",
       "      <td>153441.51</td>\n",
       "      <td>101145.55</td>\n",
       "      <td>407934.54</td>\n",
       "      <td>Florida</td>\n",
       "      <td>191050.39</td>\n",
       "    </tr>\n",
       "    <tr>\n",
       "      <th>3</th>\n",
       "      <td>144372.41</td>\n",
       "      <td>118671.85</td>\n",
       "      <td>383199.62</td>\n",
       "      <td>New York</td>\n",
       "      <td>182901.99</td>\n",
       "    </tr>\n",
       "    <tr>\n",
       "      <th>4</th>\n",
       "      <td>142107.34</td>\n",
       "      <td>91391.77</td>\n",
       "      <td>366168.42</td>\n",
       "      <td>Florida</td>\n",
       "      <td>166187.94</td>\n",
       "    </tr>\n",
       "    <tr>\n",
       "      <th>5</th>\n",
       "      <td>131876.90</td>\n",
       "      <td>99814.71</td>\n",
       "      <td>362861.36</td>\n",
       "      <td>New York</td>\n",
       "      <td>156991.12</td>\n",
       "    </tr>\n",
       "    <tr>\n",
       "      <th>6</th>\n",
       "      <td>134615.46</td>\n",
       "      <td>147198.87</td>\n",
       "      <td>127716.82</td>\n",
       "      <td>California</td>\n",
       "      <td>156122.51</td>\n",
       "    </tr>\n",
       "  </tbody>\n",
       "</table>\n",
       "</div>"
      ],
      "text/plain": [
       "   R&D Spend  Administration  Marketing Spend       State     Profit\n",
       "0  165349.20       136897.80        471784.10    New York  192261.83\n",
       "1  162597.70       151377.59        443898.53  California  191792.06\n",
       "2  153441.51       101145.55        407934.54     Florida  191050.39\n",
       "3  144372.41       118671.85        383199.62    New York  182901.99\n",
       "4  142107.34        91391.77        366168.42     Florida  166187.94\n",
       "5  131876.90        99814.71        362861.36    New York  156991.12\n",
       "6  134615.46       147198.87        127716.82  California  156122.51"
      ]
     },
     "execution_count": 179,
     "metadata": {},
     "output_type": "execute_result"
    }
   ],
   "source": [
    "#CLASS WITH LOGIC returns n rows \n",
    "class Summmary:\n",
    "    def __init__ (self, data):\n",
    "        self.df = pd.read_csv(\"/home/solo/Desktop/Companies.csv\")\n",
    "    def print_head(self, rows=None):\n",
    "        return self.df.head(rows)\n",
    "data = Summmary(\"/home/solo/Desktop/Companies.csv\")    \n",
    "data.print_head(7)"
   ]
  },
  {
   "cell_type": "code",
   "execution_count": 10,
   "metadata": {},
   "outputs": [
    {
     "name": "stdout",
     "output_type": "stream",
     "text": [
      "Rows:  1000\n",
      "Columns:  5\n"
     ]
    },
    {
     "data": {
      "text/plain": [
       "['R&D Spend', 'Administration', 'Marketing Spend', 'State', 'Profit']"
      ]
     },
     "execution_count": 10,
     "metadata": {},
     "output_type": "execute_result"
    }
   ],
   "source": [
    "#Exploratory Data Analysis (Dimensions)\n",
    "import pandas as pd\n",
    "import matplotlib.pyplot as plt\n",
    "import seaborn as sns\n",
    "df = pd.read_csv(\"/home/solo/Desktop/Companies.csv\")\n",
    "#Summary methods for EDA\n",
    " \n",
    "class Summmary:\n",
    "    def __init__(self, data): #initializes\n",
    "        self.df = pd.read_csv(\"/home/solo/Desktop/Companies.csv\")\n",
    "    def print_head(self): #prints the first or n rows\n",
    "        return self.df.head()\n",
    "    def get_columns(self): #print column header names\n",
    "        return list(self.df.columns)\n",
    "    #dimension addition\n",
    "    def get_dim(self):\n",
    "        print('Rows: ', len(self.df))\n",
    "        print('Columns: ', len(self.df.columns))\n",
    "\n",
    "data = Summmary(y)\n",
    "data.get_dim()\n",
    "data.get_columns()\n",
    "\n",
    "\n",
    "\n",
    "        \n"
   ]
  },
  {
   "cell_type": "code",
   "execution_count": 12,
   "metadata": {},
   "outputs": [
    {
     "data": {
      "text/html": [
       "<div>\n",
       "<style scoped>\n",
       "    .dataframe tbody tr th:only-of-type {\n",
       "        vertical-align: middle;\n",
       "    }\n",
       "\n",
       "    .dataframe tbody tr th {\n",
       "        vertical-align: top;\n",
       "    }\n",
       "\n",
       "    .dataframe thead th {\n",
       "        text-align: right;\n",
       "    }\n",
       "</style>\n",
       "<table border=\"1\" class=\"dataframe\">\n",
       "  <thead>\n",
       "    <tr style=\"text-align: right;\">\n",
       "      <th></th>\n",
       "      <th>spx</th>\n",
       "      <th>dax</th>\n",
       "      <th>ftse</th>\n",
       "      <th>nikkei</th>\n",
       "    </tr>\n",
       "  </thead>\n",
       "  <tbody>\n",
       "    <tr>\n",
       "      <th>count</th>\n",
       "      <td>6269.000000</td>\n",
       "      <td>6269.000000</td>\n",
       "      <td>6269.000000</td>\n",
       "      <td>6269.000000</td>\n",
       "    </tr>\n",
       "    <tr>\n",
       "      <th>mean</th>\n",
       "      <td>1288.127542</td>\n",
       "      <td>6080.063363</td>\n",
       "      <td>5422.713545</td>\n",
       "      <td>14597.055700</td>\n",
       "    </tr>\n",
       "    <tr>\n",
       "      <th>std</th>\n",
       "      <td>487.586473</td>\n",
       "      <td>2754.361032</td>\n",
       "      <td>1145.572428</td>\n",
       "      <td>4043.122953</td>\n",
       "    </tr>\n",
       "    <tr>\n",
       "      <th>min</th>\n",
       "      <td>438.920000</td>\n",
       "      <td>1911.700000</td>\n",
       "      <td>2876.600000</td>\n",
       "      <td>7054.980000</td>\n",
       "    </tr>\n",
       "    <tr>\n",
       "      <th>25%</th>\n",
       "      <td>990.671905</td>\n",
       "      <td>4069.350000</td>\n",
       "      <td>4486.100000</td>\n",
       "      <td>10709.290000</td>\n",
       "    </tr>\n",
       "    <tr>\n",
       "      <th>50%</th>\n",
       "      <td>1233.420000</td>\n",
       "      <td>5773.340000</td>\n",
       "      <td>5662.430000</td>\n",
       "      <td>15028.170000</td>\n",
       "    </tr>\n",
       "    <tr>\n",
       "      <th>75%</th>\n",
       "      <td>1459.987747</td>\n",
       "      <td>7443.070000</td>\n",
       "      <td>6304.250000</td>\n",
       "      <td>17860.470000</td>\n",
       "    </tr>\n",
       "    <tr>\n",
       "      <th>max</th>\n",
       "      <td>2872.867839</td>\n",
       "      <td>13559.600000</td>\n",
       "      <td>7778.637689</td>\n",
       "      <td>24124.150000</td>\n",
       "    </tr>\n",
       "  </tbody>\n",
       "</table>\n",
       "</div>"
      ],
      "text/plain": [
       "               spx           dax         ftse        nikkei\n",
       "count  6269.000000   6269.000000  6269.000000   6269.000000\n",
       "mean   1288.127542   6080.063363  5422.713545  14597.055700\n",
       "std     487.586473   2754.361032  1145.572428   4043.122953\n",
       "min     438.920000   1911.700000  2876.600000   7054.980000\n",
       "25%     990.671905   4069.350000  4486.100000  10709.290000\n",
       "50%    1233.420000   5773.340000  5662.430000  15028.170000\n",
       "75%    1459.987747   7443.070000  6304.250000  17860.470000\n",
       "max    2872.867839  13559.600000  7778.637689  24124.150000"
      ]
     },
     "execution_count": 12,
     "metadata": {},
     "output_type": "execute_result"
    }
   ],
   "source": [
    "# Adding statistics to the data\n",
    "class Summmary: \n",
    "    def __init__(self, data): \n",
    "        self.df = pd.read_csv(\"/home/solo/Desktop/Index2018.csv\")\n",
    "    def print_head(self):\n",
    "        return self.head(rows=None)\n",
    "    def get_columns(self):\n",
    "        return list(self.df.columns)\n",
    "    def get_dim(self):\n",
    "        print('Rows: ', len(self.df))\n",
    "        print('Columns: ', len(self.df.columns))        \n",
    "    def get_stats(self):\n",
    "        return self.df.describe()\n",
    "data = Summmary(y)\n",
    "data.get_stats() \n"
   ]
  },
  {
   "cell_type": "code",
   "execution_count": 7,
   "metadata": {},
   "outputs": [
    {
     "data": {
      "text/plain": [
       "<__main__.Summmary at 0x7fde2b777b50>"
      ]
     },
     "execution_count": 7,
     "metadata": {},
     "output_type": "execute_result"
    }
   ],
   "source": [
    "\n",
    "import pandas as pd\n",
    "y = pd.read_csv(\"/home/solo/Desktop/mls_salaries1.csv\")\n",
    "\n",
    "\n",
    "#More summary statistics\n",
    "class Summmary: \n",
    "    def __init__(self, data): \n",
    "        self.df = pd.read_csv(\"/home/solo/Desktop/mls_salaries1.csv\")\n",
    "    def print_head(self):\n",
    "        return self.head(rows=None)\n",
    "    def get_columns(self):\n",
    "        return list(self.df.columns)\n",
    "    def get_dim(self):\n",
    "        print('Rows: ', len(self.df))\n",
    "        print('Columns: ', len(self.df.columns))        \n",
    "    def get_stats(self):\n",
    "        return self.df.describe()\n",
    "    def get_mean(self, column):\n",
    "        print(f\"Mean {column}:\", self.df[column].mean())\n",
    "    def get_standard_dev(self, column):\n",
    "        print(f\"Standard Deviation {column}:\", self.df[column].std())\n",
    "     \n",
    "data = Summmary(y)\n",
    "data\n",
    "#data.get_mean('Profit')\n",
    "#data.get_standard_dev('R&D Spend')\n",
    "\n",
    "    "
   ]
  },
  {
   "cell_type": "code",
   "execution_count": 9,
   "metadata": {},
   "outputs": [
    {
     "data": {
      "text/plain": [
       "<__main__.Summmary at 0x7fde0f7467d0>"
      ]
     },
     "execution_count": 9,
     "metadata": {},
     "output_type": "execute_result"
    }
   ],
   "source": [
    "#OOP EDA with histograms\n",
    "import pandas as pd\n",
    "import matplotlib.pyplot as plt\n",
    "import seaborn as sns\n",
    "\n",
    "url = \"/home/solo/Desktop/mls_salaries1.csv\"\n",
    "\n",
    "class Summmary: \n",
    "    def __init__(self, data): \n",
    "        self.df = pd.read_csv(\"/home/solo/Desktop/mls_salaries1.csv\")\n",
    "    def print_head(self, rows=None):\n",
    "        return self.head(rows)\n",
    "    def get_columns(self):\n",
    "        return list(self.df.columns)\n",
    "    def get_dim(self):\n",
    "        print('Rows: ', len(self.df))\n",
    "        print('Columns: ', len(self.df.columns))        \n",
    "    def get_stats(self):\n",
    "        return self.df.describe()\n",
    "    def get_mean(self, column):\n",
    "        print(f\"Mean {column}:\", self.df[column].mean())\n",
    "    def get_standard_dev(self, column):\n",
    "        print(f\"Standard Deviation {column}:\", self.df[column].std())\n",
    "    def get_hist(self, column): #data visualization\n",
    "        sns.set()\n",
    "        self.df[column].hist(bins=100)\n",
    "        plt.title(f\"{column} Histogram\")\n",
    "        plt.show  \n",
    "data = Summmary(y) \n",
    "#data.get_hist('Profit')         \n",
    "data\n"
   ]
  },
  {
   "cell_type": "code",
   "execution_count": 13,
   "metadata": {},
   "outputs": [],
   "source": []
  },
  {
   "cell_type": "code",
   "execution_count": null,
   "metadata": {},
   "outputs": [],
   "source": []
  }
 ],
 "metadata": {
  "kernelspec": {
   "display_name": "Python 3",
   "language": "python",
   "name": "python3"
  },
  "language_info": {
   "codemirror_mode": {
    "name": "ipython",
    "version": 3
   },
   "file_extension": ".py",
   "mimetype": "text/x-python",
   "name": "python",
   "nbconvert_exporter": "python",
   "pygments_lexer": "ipython3",
   "version": "3.11.6"
  }
 },
 "nbformat": 4,
 "nbformat_minor": 2
}
